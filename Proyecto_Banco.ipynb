{
  "nbformat": 4,
  "nbformat_minor": 0,
  "metadata": {
    "colab": {
      "provenance": [],
      "authorship_tag": "ABX9TyOG/aLD3zbrltCxUCIUBWkc",
      "include_colab_link": true
    },
    "kernelspec": {
      "name": "python3",
      "display_name": "Python 3"
    },
    "language_info": {
      "name": "python"
    }
  },
  "cells": [
    {
      "cell_type": "markdown",
      "metadata": {
        "id": "view-in-github",
        "colab_type": "text"
      },
      "source": [
        "<a href=\"https://colab.research.google.com/github/jluisrobles/Proyecto_Banco/blob/main/Proyecto_Banco.ipynb\" target=\"_parent\"><img src=\"https://colab.research.google.com/assets/colab-badge.svg\" alt=\"Open In Colab\"/></a>"
      ]
    },
    {
      "cell_type": "code",
      "execution_count": 1,
      "metadata": {
        "colab": {
          "base_uri": "https://localhost:8080/"
        },
        "id": "pb2W5rqHHOir",
        "outputId": "b09434a1-fe53-42b2-db11-1b073a209eca"
      },
      "outputs": [
        {
          "output_type": "stream",
          "name": "stdout",
          "text": [
            "Ingrese su nombre: Pedro\n",
            "Ingrese su apellido: Rojas\n",
            "Ingrese su número de cuenta: \n",
            "Ingrese su balance inicial: 82200\n",
            "\n",
            "Operaciones disponibles:\n",
            "1. Depositar\n",
            "2. Retirar\n",
            "3. Salir\n",
            "Seleccione una opción: 1\n",
            "Ingrese la cantidad a depositar: 100050\n",
            "Depósito de $100050.0 realizado.\n",
            "\n",
            "Operaciones disponibles:\n",
            "1. Depositar\n",
            "2. Retirar\n",
            "3. Salir\n",
            "Seleccione una opción: 1\n",
            "Ingrese la cantidad a depositar: 500\n",
            "Depósito de $500.0 realizado.\n",
            "\n",
            "Operaciones disponibles:\n",
            "1. Depositar\n",
            "2. Retirar\n",
            "3. Salir\n",
            "Seleccione una opción: 2\n",
            "Ingrese la cantidad a retirar: 100000000\n",
            "Saldo insuficiente para realizar el retiro.\n",
            "\n",
            "Operaciones disponibles:\n",
            "1. Depositar\n",
            "2. Retirar\n",
            "3. Salir\n",
            "Seleccione una opción: 3\n",
            "Cliente: Pedro Rojas\n",
            "Número de Cuenta: \n",
            "Balance: $182750.0\n"
          ]
        }
      ],
      "source": [
        "class Persona:\n",
        "    def __init__(self, nombre, apellido):\n",
        "        self.nombre = nombre\n",
        "        self.apellido = apellido\n",
        "\n",
        "class Cliente(Persona):\n",
        "    def __init__(self, nombre, apellido, numero_cuenta, balance):\n",
        "        super().__init__(nombre, apellido)\n",
        "        self.numero_cuenta = numero_cuenta\n",
        "        self.balance = balance\n",
        "\n",
        "    def __str__(self):\n",
        "        return f\"Cliente: {self.nombre} {self.apellido}\\nNúmero de Cuenta: {self.numero_cuenta}\\nBalance: ${self.balance}\"\n",
        "\n",
        "    def depositar(self, cantidad):\n",
        "        if cantidad > 0:\n",
        "            self.balance += cantidad\n",
        "            print(f\"Depósito de ${cantidad} realizado.\")\n",
        "        else:\n",
        "            print(\"La cantidad a depositar debe ser mayor que cero.\")\n",
        "\n",
        "    def retirar(self, cantidad):\n",
        "        if cantidad > 0:\n",
        "            if cantidad <= self.balance:\n",
        "                self.balance -= cantidad\n",
        "                print(f\"Retiro de ${cantidad} realizado.\")\n",
        "            else:\n",
        "                print(\"Saldo insuficiente para realizar el retiro.\")\n",
        "        else:\n",
        "            print(\"La cantidad a retirar debe ser mayor que cero.\")\n",
        "\n",
        "def crear_cliente():\n",
        "    nombre = input(\"Ingrese su nombre: \")\n",
        "    apellido = input(\"Ingrese su apellido: \")\n",
        "    numero_cuenta = input(\"Ingrese su número de cuenta: \")\n",
        "    balance = float(input(\"Ingrese su balance inicial: \"))\n",
        "    return Cliente(nombre, apellido, numero_cuenta, balance)\n",
        "\n",
        "def inicio():\n",
        "    cliente = crear_cliente()\n",
        "    while True:\n",
        "        print(\"\\nOperaciones disponibles:\")\n",
        "        print(\"1. Depositar\")\n",
        "        print(\"2. Retirar\")\n",
        "        print(\"3. Salir\")\n",
        "        opcion = input(\"Seleccione una opción: \")\n",
        "\n",
        "        if opcion == \"1\":\n",
        "            cantidad = float(input(\"Ingrese la cantidad a depositar: \"))\n",
        "            cliente.depositar(cantidad)\n",
        "        elif opcion == \"2\":\n",
        "            cantidad = float(input(\"Ingrese la cantidad a retirar: \"))\n",
        "            cliente.retirar(cantidad)\n",
        "        elif opcion == \"3\":\n",
        "            print(cliente)\n",
        "            break\n",
        "        else:\n",
        "            print(\"Opción no válida. Intente nuevamente.\")\n",
        "\n",
        "if __name__ == \"__main__\":\n",
        "    inicio()\n"
      ]
    }
  ]
}